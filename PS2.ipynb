{
 "cells": [
  {
   "cell_type": "markdown",
   "id": "congressional-denial",
   "metadata": {},
   "source": [
    "# Question 1"
   ]
  },
  {
   "cell_type": "code",
   "execution_count": null,
   "id": "shared-plastic",
   "metadata": {},
   "outputs": [],
   "source": [
    "a = 0\n",
    "\n",
    "def b():\n",
    "    global a\n",
    "    a = c(a)\n",
    "    \n",
    "def c(a):\n",
    "    return a + 2\n",
    "\n",
    "b()\n",
    "b()\n",
    "b()\n",
    "a"
   ]
  },
  {
   "cell_type": "markdown",
   "id": "moved-toner",
   "metadata": {},
   "source": [
    "-The first global variable a is set to 0\n",
    "-In function b the second a variable is set to global for use everywhere\n",
    "-the first b() call sets off function c, equaling 2 (a which is 0 plus 2)\n",
    "-the same thing is done two more times\n",
    "-Now a is called, which now equals 6 because the previous 3 calls of b() all were 2\n",
    "-each time b() was called, it added 2 to the global a variable from the function c() because it is global\n",
    "-function c never uses function b (other than the global var a) so it just runs the same task again and again\n",
    "-because function b calls function c with its global var a it uses the result from function c to add to it"
   ]
  },
  {
   "cell_type": "markdown",
   "id": "modified-recall",
   "metadata": {},
   "source": [
    "# Question 2"
   ]
  },
  {
   "cell_type": "code",
   "execution_count": null,
   "id": "british-friendship",
   "metadata": {},
   "outputs": [],
   "source": [
    "def file_length(file_name):\n",
    "    file = open(file_name)\n",
    "    contents = file.read()\n",
    "    file.close()\n",
    "    print(len(contents))\n",
    "    \n",
    "file_length(\"sample.txt\")"
   ]
  },
  {
   "cell_type": "code",
   "execution_count": null,
   "id": "contemporary-breathing",
   "metadata": {},
   "outputs": [],
   "source": [
    "def file_length(file_name):\n",
    "    try:\n",
    "        file = open(file_name)\n",
    "        contents = file.read()\n",
    "    \n",
    "    except IOError:\n",
    "        print(\"Uh Oh! file\", file_name, \"Cannot be found\")\n",
    "        \n",
    "    finally:\n",
    "        file.close()\n",
    "        print(len(contents))\n",
    "    \n",
    "file_length(\"samle.txt\")"
   ]
  },
  {
   "cell_type": "markdown",
   "id": "buried-value",
   "metadata": {},
   "source": [
    "# Question 3"
   ]
  },
  {
   "cell_type": "code",
   "execution_count": null,
   "id": "instrumental-bachelor",
   "metadata": {},
   "outputs": [],
   "source": [
    "class Marsupial():\n",
    "    \n",
    "    def put_in_pouch(self, marsupial):\n",
    "        self.marsupial = [\"doll\", \"firetruck\", \"kitten\"]\n",
    "        \n",
    "    def pouch_contents(self):\n",
    "        return self.marsupial\n",
    "        \n",
    "m = Marsupial()\n",
    "m.put_in_pouch(\"doll\")\n",
    "m.put_in_pouch(\"firetruck\")\n",
    "m.put_in_pouch(\"kitten\")\n",
    "m.pouch_contents()"
   ]
  },
  {
   "cell_type": "markdown",
   "id": "actual-wyoming",
   "metadata": {},
   "source": [
    "# Question 4"
   ]
  },
  {
   "cell_type": "code",
   "execution_count": null,
   "id": "norman-night",
   "metadata": {},
   "outputs": [],
   "source": [
    "def collatz(x):\n",
    "    print(\"This is x\", x)\n",
    "    if x == 1:\n",
    "        print(\"done!\")\n",
    "    elif x % 2 == 0:\n",
    "        even = x / 2\n",
    "        print(even)\n",
    "        collatz(x/2)\n",
    "    else:\n",
    "        odd = x * 3 + 1\n",
    "        print(odd)\n",
    "        collatz(x*3+1)\n",
    "    \n",
    "collatz(7)"
   ]
  },
  {
   "cell_type": "markdown",
   "id": "multiple-dining",
   "metadata": {},
   "source": [
    "# Question 5"
   ]
  },
  {
   "cell_type": "code",
   "execution_count": null,
   "id": "proprietary-cameroon",
   "metadata": {},
   "outputs": [],
   "source": [
    "def binary(x):\n",
    "    print(\"Your number is:\", x)\n",
    "    if x < 0:\n",
    "        print(\"Your number needs to be positive\")\n",
    "    else:\n",
    "        print(\"Yout number in binary is:\", bin(x))\n",
    "\n",
    "binary(0)\n",
    "binary(1)\n",
    "binary(3)\n",
    "binary(9)\n",
    "binary(-1)"
   ]
  },
  {
   "cell_type": "markdown",
   "id": "driven-casting",
   "metadata": {},
   "source": [
    "# Question 6"
   ]
  },
  {
   "cell_type": "code",
   "execution_count": null,
   "id": "incident-building",
   "metadata": {},
   "outputs": [],
   "source": [
    "from html.parser import HTMLParser\n",
    "class LinkParser(HTMLParser):\n",
    "\n",
    "    def handle_starttag(self, tag, attrs):\n",
    "        'print value of href attribute if any'\n",
    "        if tag == 'a':\n",
    "            # search for href attribute and print its value\n",
    "            for attr in attrs:\n",
    "                if attr[0] == 'href':\n",
    "                    print(attr[1])\n",
    "\n",
    "infile = open('w3c.html') \n",
    "content = infile.read() \n",
    "infile.close() \n",
    "linkparser = LinkParser() \n",
    "linkparser.feed(content) "
   ]
  },
  {
   "cell_type": "markdown",
   "id": "otherwise-folder",
   "metadata": {},
   "source": [
    "# Question 7"
   ]
  },
  {
   "cell_type": "code",
   "execution_count": null,
   "id": "brilliant-vertical",
   "metadata": {},
   "outputs": [],
   "source": [
    "from bs4 import BeautifulSoup \n",
    "import requests \n",
    "\n",
    "sites=[] \n",
    "\n",
    "def crawl(url): \n",
    "\n",
    "    r = requests.get(url) \n",
    "    s = BeautifulSoup(r.text,\"html.parser\") \n",
    "    for i in s.find_all(\"a\"): \n",
    "        href = i.attrs['href'] \n",
    "        if href.startswith(\"/\"): \n",
    "            url = url+href \n",
    "            if url not in sites: \n",
    "                urls.append(url) \n",
    "                print(url) \n",
    "                scrape(url) \n",
    "\n",
    "if __name__ ==\"__main__\": \n",
    "\n",
    "    url=\"Input site\"\n",
    "\n",
    "    crawl(url)\n"
   ]
  },
  {
   "cell_type": "markdown",
   "id": "combined-strand",
   "metadata": {},
   "source": [
    "# Question 8"
   ]
  },
  {
   "cell_type": "code",
   "execution_count": null,
   "id": "architectural-native",
   "metadata": {},
   "outputs": [],
   "source": [
    "import sqlite3\n",
    "con = sqlite3.connect('data.db')\n",
    "cur = con.cursor()\n",
    "cur.execute(\"CREATE TABLE work (City text, Country text, Season text, Temperature int, Rainfall int)\")\n",
    "cur.execute(\"INSERT INTO work VALUES ('Mumbai', 'India', 'Winter', 24.8, 5.9)\")"
   ]
  },
  {
   "cell_type": "code",
   "execution_count": null,
   "id": "front-requirement",
   "metadata": {},
   "outputs": [],
   "source": [
    "cur.execute(\"INSERT INTO work VALUES ('Mumbai', 'India', 'Spring', 28.4, 16.2)\")\n",
    "cur.execute(\"INSERT INTO work VALUES ('Mumbai', 'India', 'Summer', 27.9, 1549.4)\")\n",
    "cur.execute(\"INSERT INTO work VALUES ('Mumbai', 'India', 'Fall', 27.6, 346.0)\")\n",
    "cur.execute(\"INSERT INTO work VALUES ('London', 'United Kingdom', 'Winter', 4.2, 207.7)\")\n",
    "cur.execute(\"INSERT INTO work VALUES ('London', 'United Kingdom', 'Spring', 8.3, 169.6)\")\n",
    "cur.execute(\"INSERT INTO work VALUES ('London', 'United Kingdom', 'Summer', 15.7, 157.0)\")\n",
    "cur.execute(\"INSERT INTO work VALUES ('London', 'United Kingdom', 'Fall', 10.4, 218.5)\")\n",
    "cur.execute(\"INSERT INTO work VALUES ('Cairo', 'Egypt', 'Winter', 13.6, 16.5)\")\n",
    "cur.execute(\"INSERT INTO work VALUES ('Cairo', 'Egypt', 'Spring', 20.7, 6.5)\")\n",
    "cur.execute(\"INSERT INTO work VALUES ('Cairo', 'Egypt', 'Summer', 27.7, 0.1)\")\n",
    "cur.execute(\"INSERT INTO work VALUES ('Cairo', 'Egypt', 'Fall', 22.2, 4.5)\")"
   ]
  },
  {
   "cell_type": "code",
   "execution_count": null,
   "id": "happy-partnership",
   "metadata": {},
   "outputs": [],
   "source": [
    "cur.execute('SELECT Temperature from work')\n",
    "cur.fetchall()"
   ]
  },
  {
   "cell_type": "code",
   "execution_count": null,
   "id": "retained-calendar",
   "metadata": {},
   "outputs": [],
   "source": [
    "cur.execute('SELECT DISTINCT City from work')\n",
    "cur.fetchall()"
   ]
  },
  {
   "cell_type": "code",
   "execution_count": null,
   "id": "stretch-wright",
   "metadata": {},
   "outputs": [],
   "source": [
    "c = 'India'\n",
    "cur.execute('SELECT * FROM work WHERE Country = ?', (c,))\n",
    "cur.fetchall()"
   ]
  },
  {
   "cell_type": "code",
   "execution_count": null,
   "id": "excessive-replication",
   "metadata": {},
   "outputs": [],
   "source": [
    "s = \"Fall\"\n",
    "cur.execute('SELECT * FROM work WHERE Season = ?', (s,))\n",
    "cur.fetchall()"
   ]
  },
  {
   "cell_type": "markdown",
   "id": "academic-carbon",
   "metadata": {},
   "source": [
    "# Question 9"
   ]
  },
  {
   "cell_type": "code",
   "execution_count": null,
   "id": "alone-simulation",
   "metadata": {},
   "outputs": [],
   "source": [
    "words = ['The', 'quick', 'brown', 'fox', 'jumps', 'over', 'the', 'lazy', 'dog']\n",
    "\n",
    "newlist1 = [x.upper() for x in words]\n",
    "newlist2 = [x.lower() for x in words]\n",
    "newlist3 = [len(x) for x in words]\n",
    "newlist4 = [[x.upper() for x in words], [x.lower() for x in words], [len(x) for x in words]]\n",
    "newlist5 = [x for x in words if len(x) >= 4]\n",
    "\n",
    "print(newlist1)\n",
    "print(newlist2)\n",
    "print(newlist3)\n",
    "print(newlist4)\n",
    "print(newlist5)"
   ]
  }
 ],
 "metadata": {
  "kernelspec": {
   "display_name": "Python 3",
   "language": "python",
   "name": "python3"
  },
  "language_info": {
   "codemirror_mode": {
    "name": "ipython",
    "version": 3
   },
   "file_extension": ".py",
   "mimetype": "text/x-python",
   "name": "python",
   "nbconvert_exporter": "python",
   "pygments_lexer": "ipython3",
   "version": "3.8.5"
  }
 },
 "nbformat": 4,
 "nbformat_minor": 5
}
